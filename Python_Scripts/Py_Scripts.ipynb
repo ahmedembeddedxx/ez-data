{
 "cells": [
  {
   "cell_type": "markdown",
   "id": "bee482b6",
   "metadata": {},
   "source": [
    "## Task-1"
   ]
  },
  {
   "cell_type": "code",
   "execution_count": 124,
   "id": "12fc5219",
   "metadata": {},
   "outputs": [
    {
     "name": "stdout",
     "output_type": "stream",
     "text": [
      "1(Triangle) & 2(Rectangle): 2\n",
      "Enter Length: 10\n",
      "**********\n",
      "*        *\n",
      "*        *\n",
      "*        *\n",
      "*        *\n",
      "*        *\n",
      "**********"
     ]
    }
   ],
   "source": [
    "def print_rectangle(n):\n",
    "    for i in range(0, n):\n",
    "        print(\"*\", end=\"\")\n",
    "    print('\\n', end=\"\")\n",
    "    \n",
    "    for j in range(0, int(n/2)):\n",
    "        for i in range(0, n):\n",
    "            if(i==0 or i==n-1):\n",
    "                print(\"*\", end=\"\")\n",
    "            else:\n",
    "                print(\" \", end=\"\")\n",
    "        print('\\n', end=\"\")  \n",
    "    \n",
    "    for i in range(0, n):\n",
    "        print(\"*\", end=\"\")\n",
    "\n",
    "def print_triangle(n):\n",
    "    print(\"*\")\n",
    "    for i in range(0, n):\n",
    "        for j in range(0, i):\n",
    "            print(\" \", end=\"\")\n",
    "        print(\"*\", end=\"\")\n",
    "        for j in range(0, i):\n",
    "            print(\" \", end=\"\")\n",
    "        print(\"*\")\n",
    "    for i in  range(n+2):\n",
    "        print(\"*\", end=\"\")\n",
    "    \n",
    "    \n",
    "x = int(input(\"1(Triangle) & 2(Rectangle): \"))\n",
    "n = int(input(\"Enter Length: \"))\n",
    "\n",
    "if(x==1):\n",
    "    print_triangle(n)\n",
    "elif(x==2):\n",
    "    print_rectangle(n)\n"
   ]
  },
  {
   "cell_type": "markdown",
   "id": "e08f5dd4",
   "metadata": {},
   "source": [
    "## Task-2 (A)"
   ]
  },
  {
   "cell_type": "code",
   "execution_count": 125,
   "id": "caafc64d",
   "metadata": {},
   "outputs": [
    {
     "data": {
      "text/plain": [
       "{'Name': 'Ahmed', 'Roll No.': '22L-7503', 'Section': 'BDS-4A2'}"
      ]
     },
     "execution_count": 125,
     "metadata": {},
     "output_type": "execute_result"
    }
   ],
   "source": [
    "dictionary = {\"Name\":\"Ahmed\", \"Roll No.\":\"22L-7503\", \"Section\":\"BDS-4A2\"}\n",
    "dictionary"
   ]
  },
  {
   "cell_type": "code",
   "execution_count": 126,
   "id": "461d373a",
   "metadata": {},
   "outputs": [
    {
     "data": {
      "text/plain": [
       "'22L-7503'"
      ]
     },
     "execution_count": 126,
     "metadata": {},
     "output_type": "execute_result"
    }
   ],
   "source": [
    "dictionary['Roll No.']"
   ]
  },
  {
   "cell_type": "code",
   "execution_count": 127,
   "id": "16a4bd43",
   "metadata": {},
   "outputs": [
    {
     "data": {
      "text/plain": [
       "'Ahmed'"
      ]
     },
     "execution_count": 127,
     "metadata": {},
     "output_type": "execute_result"
    }
   ],
   "source": [
    "dictionary.get(\"Name\")"
   ]
  },
  {
   "cell_type": "code",
   "execution_count": 128,
   "id": "4012d556",
   "metadata": {},
   "outputs": [
    {
     "data": {
      "text/plain": [
       "'BDS-4A1'"
      ]
     },
     "execution_count": 128,
     "metadata": {},
     "output_type": "execute_result"
    }
   ],
   "source": [
    "dictionary['Section']='BDS-4A1'\n",
    "dictionary.get(\"Section\")"
   ]
  },
  {
   "cell_type": "code",
   "execution_count": 129,
   "id": "69c8e979",
   "metadata": {},
   "outputs": [
    {
     "data": {
      "text/plain": [
       "3"
      ]
     },
     "execution_count": 129,
     "metadata": {},
     "output_type": "execute_result"
    }
   ],
   "source": [
    "len(dictionary)"
   ]
  },
  {
   "cell_type": "markdown",
   "id": "ef7b0555",
   "metadata": {},
   "source": [
    "## Task-2 (B)"
   ]
  },
  {
   "cell_type": "code",
   "execution_count": 130,
   "id": "dc417d6d",
   "metadata": {},
   "outputs": [
    {
     "data": {
      "text/plain": [
       "('Ahmed', '22L-7503', 'BDS-4A2')"
      ]
     },
     "execution_count": 130,
     "metadata": {},
     "output_type": "execute_result"
    }
   ],
   "source": [
    "tuple1 = (\"Ahmed\", \"22L-7503\", \"BDS-4A2\")\n",
    "tuple1"
   ]
  },
  {
   "cell_type": "code",
   "execution_count": 131,
   "id": "c5f0de71",
   "metadata": {},
   "outputs": [
    {
     "data": {
      "text/plain": [
       "('Ahmed', '22L-7503', 'BDS-4A2', 'Lahore, Pakistan')"
      ]
     },
     "execution_count": 131,
     "metadata": {},
     "output_type": "execute_result"
    }
   ],
   "source": [
    "tuple1 += (\"Lahore, Pakistan\",)\n",
    "tuple1"
   ]
  },
  {
   "cell_type": "code",
   "execution_count": 132,
   "id": "1107740d",
   "metadata": {},
   "outputs": [
    {
     "data": {
      "text/plain": [
       "4"
      ]
     },
     "execution_count": 132,
     "metadata": {},
     "output_type": "execute_result"
    }
   ],
   "source": [
    "len(tuple1)"
   ]
  },
  {
   "cell_type": "code",
   "execution_count": 133,
   "id": "5212de3b",
   "metadata": {},
   "outputs": [
    {
     "name": "stdout",
     "output_type": "stream",
     "text": [
      "Found\n"
     ]
    }
   ],
   "source": [
    "x = \"BDS-4A2\"\n",
    "\n",
    "if x in tuple1:\n",
    "    print(\"Found\")\n",
    "else:\n",
    "    print(\"Not Found\")\n"
   ]
  },
  {
   "cell_type": "code",
   "execution_count": 134,
   "id": "a74ff09c",
   "metadata": {},
   "outputs": [
    {
     "data": {
      "text/plain": [
       "'Lahore, Pakistan'"
      ]
     },
     "execution_count": 134,
     "metadata": {},
     "output_type": "execute_result"
    }
   ],
   "source": [
    "x = 3\n",
    "tuple1[x]"
   ]
  },
  {
   "cell_type": "markdown",
   "id": "2a29b121",
   "metadata": {},
   "source": [
    "## Task-3"
   ]
  },
  {
   "cell_type": "code",
   "execution_count": 135,
   "id": "2808bde9",
   "metadata": {},
   "outputs": [
    {
     "name": "stdout",
     "output_type": "stream",
     "text": [
      "Enter Radius:25.255\n",
      "Enter Height:23.25\n",
      "Volume:  46586.819451081756\n"
     ]
    }
   ],
   "source": [
    "def volume(r, h):\n",
    "    return 3.14156*(r**2)*h\n",
    "\n",
    "\n",
    "r = float(input(\"Enter Radius:\"))\n",
    "h = float(input(\"Enter Height:\"))\n",
    "\n",
    "print(\"Volume: \", volume(r, h))\n",
    "\n"
   ]
  },
  {
   "cell_type": "markdown",
   "id": "a0adea5d",
   "metadata": {},
   "source": [
    "## Task-4"
   ]
  },
  {
   "cell_type": "code",
   "execution_count": 136,
   "id": "0fb2c51c",
   "metadata": {},
   "outputs": [
    {
     "name": "stdout",
     "output_type": "stream",
     "text": [
      "Enter Operand 1: 25\n",
      "Enter Operand 2: 7\n",
      "+. Addition\n",
      "-. Subtraction\n",
      "*. Multiplication\n",
      "/. Division\n",
      "Enter Operation Number: /\n",
      "3.5714285714285716\n"
     ]
    }
   ],
   "source": [
    "a = float(input(\"Enter Operand 1: \"))\n",
    "b = float(input(\"Enter Operand 2: \"))\n",
    "\n",
    "print(\"+. Addition\")\n",
    "print(\"-. Subtraction\")\n",
    "print(\"*. Multiplication\")\n",
    "print(\"/. Division\")\n",
    "\n",
    "operator = input(\"Enter Operation Number: \")\n",
    "\n",
    "if operator == '+':\n",
    "    print(a+b)\n",
    "elif operator == '-':\n",
    "    print(a-b)\n",
    "elif operator == '*':\n",
    "    print(a*b)\n",
    "elif operator == '/':\n",
    "    if b!=0:\n",
    "        print(a/b)\n",
    "    else:\n",
    "        print(\"Not Possible\")\n"
   ]
  },
  {
   "cell_type": "markdown",
   "id": "77130f90",
   "metadata": {},
   "source": [
    "## Task-5"
   ]
  },
  {
   "cell_type": "code",
   "execution_count": 116,
   "id": "d31edd1d",
   "metadata": {},
   "outputs": [
    {
     "name": "stdout",
     "output_type": "stream",
     "text": [
      "String: racecar\n",
      "True\n",
      "String: racist ibtehaj\n",
      "False\n"
     ]
    }
   ],
   "source": [
    "def isPalindrome(x):\n",
    "    return x==x[::-1]\n",
    "        \n",
    "        \n",
    "x = str(input(\"String: \"))\n",
    "print(isPalindrome(x))        \n",
    "x = str(input(\"String: \"))\n",
    "print(isPalindrome(x))\n"
   ]
  },
  {
   "cell_type": "markdown",
   "id": "57772aa8",
   "metadata": {},
   "source": [
    "## Task-6"
   ]
  },
  {
   "cell_type": "code",
   "execution_count": 90,
   "id": "4820d7e2",
   "metadata": {},
   "outputs": [
    {
     "name": "stdout",
     "output_type": "stream",
     "text": [
      "Number: 5\n"
     ]
    },
    {
     "data": {
      "text/plain": [
       "120"
      ]
     },
     "execution_count": 90,
     "metadata": {},
     "output_type": "execute_result"
    }
   ],
   "source": [
    "def factorial(x):\n",
    "    j = 1\n",
    "    for i in range(1, x+1):\n",
    "        j*=i\n",
    "    return j    \n",
    "    \n",
    "\n",
    "x = int(input(\"Number: \"))\n",
    "factorial(x)         "
   ]
  },
  {
   "cell_type": "markdown",
   "id": "3a64c999",
   "metadata": {},
   "source": [
    "## Task-7"
   ]
  },
  {
   "cell_type": "code",
   "execution_count": 99,
   "id": "99aed60f",
   "metadata": {},
   "outputs": [
    {
     "name": "stdout",
     "output_type": "stream",
     "text": [
      "A\t B\n",
      "1 \t 1\n",
      "2 \t 2\n",
      "3 \t 4\n",
      "Ahmed \t Arif\n",
      "FAST \t FAST\n",
      "False\n",
      "\n",
      "\n",
      "\n",
      "A\t B\n",
      "1 \t 1\n",
      "2 \t 2\n",
      "3 \t 3\n",
      "Ahmed \t Ahmed\n",
      "FAST \t FAST\n",
      "True\n"
     ]
    }
   ],
   "source": [
    "def equal_lists(list1, list2):\n",
    "    \n",
    "    if(len(list1)!=len(list2)):\n",
    "        return False\n",
    "    ctr = 0\n",
    "    print(\"A\\t B\")\n",
    "    for i, j in zip(list1, list2):\n",
    "        print(i,\"\\t\",j)\n",
    "        if(i==j):\n",
    "            ctr+=1\n",
    "    if ctr==len(list1):\n",
    "        return True\n",
    "    return False\n",
    "\n",
    "list1 = [1, 2, 3, 'Ahmed', 'FAST']\n",
    "list2 = [1, 2, 4, 'Arif', 'FAST']\n",
    "list3 = [1, 2, 3, 'Ahmed', 'FAST']\n",
    "\n",
    "print(equal_lists(list1, list2))\n",
    "print(\"\\n\\n\")\n",
    "print(equal_lists(list1, list3))\n",
    "\n"
   ]
  },
  {
   "cell_type": "markdown",
   "id": "1b84343b",
   "metadata": {},
   "source": [
    "## Task-8"
   ]
  },
  {
   "cell_type": "code",
   "execution_count": 103,
   "id": "760b9080",
   "metadata": {},
   "outputs": [
    {
     "name": "stdout",
     "output_type": "stream",
     "text": [
      "Is SuperSet of Itself:  True\n",
      "Is SuperSet of OtherSet:  True\n"
     ]
    }
   ],
   "source": [
    "set1 = {1, 2, 3, 4, 5}\n",
    "set2 = {1, 2, 3}\n",
    "\n",
    "print(\"Is SuperSet of Itself: \", set1.issuperset(set1))\n",
    "print(\"Is SuperSet of OtherSet: \",set1.issuperset(set2))"
   ]
  }
 ],
 "metadata": {
  "kernelspec": {
   "display_name": "Python 3",
   "language": "python",
   "name": "python3"
  },
  "language_info": {
   "codemirror_mode": {
    "name": "ipython",
    "version": 3
   },
   "file_extension": ".py",
   "mimetype": "text/x-python",
   "name": "python",
   "nbconvert_exporter": "python",
   "pygments_lexer": "ipython3",
   "version": "3.8.8"
  }
 },
 "nbformat": 4,
 "nbformat_minor": 5
}
