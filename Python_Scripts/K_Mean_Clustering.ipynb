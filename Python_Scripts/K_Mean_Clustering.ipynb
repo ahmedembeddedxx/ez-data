{
 "cells": [
  {
   "cell_type": "markdown",
   "id": "cdcc965e",
   "metadata": {},
   "source": [
    "### Neccessary Libraries"
   ]
  },
  {
   "cell_type": "code",
   "execution_count": 21,
   "id": "bbd8decb",
   "metadata": {},
   "outputs": [],
   "source": [
    "import numpy as np\n",
    "import matplotlib.pyplot as plt"
   ]
  },
  {
   "cell_type": "markdown",
   "id": "7ac50079",
   "metadata": {},
   "source": [
    "### Defining Arrays/Data Points"
   ]
  },
  {
   "cell_type": "code",
   "execution_count": 22,
   "id": "12a5fda3",
   "metadata": {},
   "outputs": [],
   "source": [
    "x = np.array([5.9, 4.6, 6.2, 4.7, 5.5, 5.0, 4.9, 6.7, 5.2, 6.0])\n",
    "y = np.array([3.0, 3.0, 2.8, 3.2, 4.2, 3.0, 3.1, 3.0, 3.8, 3.0])"
   ]
  },
  {
   "cell_type": "markdown",
   "id": "b65d4374",
   "metadata": {},
   "source": [
    "### Initial Seeds"
   ]
  },
  {
   "cell_type": "code",
   "execution_count": 23,
   "id": "0fd25bcd",
   "metadata": {},
   "outputs": [],
   "source": [
    "S1=np.array([6.2, 3.2])\n",
    "S2=np.array([6.6, 3.7])\n",
    "S3=np.array([6.5, 3.0])"
   ]
  },
  {
   "cell_type": "code",
   "execution_count": 24,
   "id": "294d6b92",
   "metadata": {},
   "outputs": [
    {
     "data": {
      "image/png": "[encoded data removed]",
      "text/plain": [
       "<Figure size 640x480 with 1 Axes>"
      ]
     },
     "metadata": {},
     "output_type": "display_data"
    }
   ],
   "source": [
    "plt.scatter(x=x, y=y, c=\"black\")\n",
    "\n",
    "plt.scatter(x=S1[0], y=S1[1], c=\"red\", marker=\"X\", label=\"Seed-1\")\n",
    "plt.scatter(x=S2[0], y=S2[1], c=\"green\", marker=\"X\", label=\"Seed-2\")\n",
    "plt.scatter(x=S3[0], y=S3[1], c=\"blue\", marker=\"X\", label=\"Seed-3\")\n",
    "\n",
    "plt.xlabel(\"x-axis\")\n",
    "plt.ylabel(\"y-axis\")\n",
    "plt.legend()\n",
    "plt.show()"
   ]
  },
  {
   "cell_type": "markdown",
   "id": "000d175f",
   "metadata": {},
   "source": [
    "### Distances Mapper"
   ]
  },
  {
   "cell_type": "code",
   "execution_count": 25,
   "id": "6e501c79",
   "metadata": {},
   "outputs": [],
   "source": [
    "def euclidean_distances(S_, x_, y_):\n",
    "    x_diff = (x_-S_[0])**2 \n",
    "    y_diff = (y_-S_[1])**2\n",
    "    \n",
    "    return np.sqrt(x_diff+y_diff)    "
   ]
  },
  {
   "cell_type": "markdown",
   "id": "0d7fc7c7",
   "metadata": {},
   "source": [
    "### K-Means Algorithm Application"
   ]
  },
  {
   "cell_type": "code",
   "execution_count": 26,
   "id": "0dfeba63",
   "metadata": {},
   "outputs": [],
   "source": [
    "while True:\n",
    "    P1 = euclidean_distances(S1, x, y)\n",
    "    P2 = euclidean_distances(S2, x, y)\n",
    "    P3 = euclidean_distances(S3, x, y)\n",
    "    \n",
    "    bin1x = []\n",
    "    bin1y = []\n",
    "    \n",
    "    bin2x = []\n",
    "    bin2y = []\n",
    "    \n",
    "    bin3x = []\n",
    "    bin3y = []\n",
    "    ctr = 0\n",
    "    for a, b, c in zip(P1, P2, P3):\n",
    "        bin_ = min(a, b, c)\n",
    "        if(bin_ == a):\n",
    "            bin1x.append(x[ctr])\n",
    "            bin1y.append(y[ctr])\n",
    "        elif(bin_ == b):\n",
    "            bin2x.append(x[ctr])\n",
    "            bin2y.append(y[ctr])\n",
    "        elif(bin_ == c):\n",
    "            bin3x.append(x[ctr])\n",
    "            bin3y.append(y[ctr])\n",
    "        ctr+=1    \n",
    "    \n",
    "    \n",
    "    T1, T2, T3 = S1, S2, S3\n",
    "    \n",
    "    S1 = sum(bin1x)/len(bin1x), sum(bin1y)/len(bin1y)\n",
    "    \n",
    "    S2 = sum(bin2x)/len(bin2x), sum(bin2y)/len(bin2y)\n",
    "    \n",
    "    S3 = sum(bin3x)/len(bin3x), sum(bin3y)/len(bin3y)\n",
    "    \n",
    "    if np.array_equal(T1, S1) and np.array_equal(T2, S2) and np.array_equal(T3, S3):\n",
    "        break\n",
    "\n"
   ]
  },
  {
   "cell_type": "markdown",
   "id": "ed75b6ff",
   "metadata": {},
   "source": [
    "### Final Clusters"
   ]
  },
  {
   "cell_type": "code",
   "execution_count": 36,
   "id": "6e704a11",
   "metadata": {},
   "outputs": [
    {
     "name": "stdout",
     "output_type": "stream",
     "text": [
      "Cluster 1:\n",
      "\n",
      "x:  [4.6, 4.7, 5.0, 4.9]\n",
      "y:  [3.0, 3.2, 3.0, 3.1]\n",
      "\n",
      "\n",
      "Cluster 2:\n",
      "\n",
      "x:  [5.5, 5.2]\n",
      "y:  [4.2, 3.8]\n",
      "\n",
      "\n",
      "Cluster 3:\n",
      "\n",
      "x:  [5.9, 6.2, 6.7, 6.0]\n",
      "y:  [3.0, 2.8, 3.0, 3.0]\n"
     ]
    }
   ],
   "source": [
    "print(\"Cluster 1:\\n\")    \n",
    "print(\"x: \", bin1x)\n",
    "print(\"y: \",bin1y)\n",
    "print(\"\\n\")\n",
    "print(\"Cluster 2:\\n\")    \n",
    "print(\"x: \",bin2x)\n",
    "print(\"y: \",bin2y)\n",
    "print(\"\\n\")\n",
    "print(\"Cluster 3:\\n\")    \n",
    "print(\"x: \",bin3x)\n",
    "print(\"y: \",bin3y)"
   ]
  },
  {
   "cell_type": "code",
   "execution_count": 35,
   "id": "a8b9e065",
   "metadata": {},
   "outputs": [
    {
     "data": {
      "image/png": "[encoded data removed]",
      "text/plain": [
       "<Figure size 640x480 with 1 Axes>"
      ]
     },
     "metadata": {},
     "output_type": "display_data"
    }
   ],
   "source": [
    "\n",
    "plt.scatter(x=S1[0], y=S1[1], c=\"red\", marker=\"X\", label=\"C-Mean 1\")\n",
    "plt.scatter(x=bin1x, y=bin1y, c=\"red\")\n",
    "\n",
    "plt.scatter(x=S2[0], y=S2[1], c=\"green\", marker=\"X\", label=\"C-Mean 2\")\n",
    "plt.scatter(x=bin2x, y=bin2y, c=\"green\")\n",
    "\n",
    "plt.scatter(x=S3[0], y=S3[1], c=\"blue\", marker=\"X\", label=\"C-Mean 3\")\n",
    "plt.scatter(x=bin3x, y=bin3y, c=\"blue\")\n",
    "\n",
    "plt.xlabel(\"x-axis\")\n",
    "plt.ylabel(\"y-axis\")\n",
    "\n",
    "plt.legend()\n",
    "plt.show()"
   ]
  },
  {
   "cell_type": "code",
   "execution_count": null,
   "id": "52fed43c",
   "metadata": {},
   "outputs": [],
   "source": []
  }
 ],
 "metadata": {
  "kernelspec": {
   "display_name": "Python 3 (ipykernel)",
   "language": "python",
   "name": "python3"
  },
  "language_info": {
   "codemirror_mode": {
    "name": "ipython",
    "version": 3
   },
   "file_extension": ".py",
   "mimetype": "text/x-python",
   "name": "python",
   "nbconvert_exporter": "python",
   "pygments_lexer": "ipython3",
   "version": "3.11.5"
  }
 },
 "nbformat": 4,
 "nbformat_minor": 5
}
